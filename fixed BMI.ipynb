{
 "cells": [
  {
   "cell_type": "code",
   "execution_count": 9,
   "id": "ff086c3c",
   "metadata": {},
   "outputs": [
    {
     "name": "stdout",
     "output_type": "stream",
     "text": [
      "Berat badan: 80\n",
      "80.0 kg\n",
      "Tinggi badan: 170\n",
      "1.7 m\n",
      "27.68166089965398\n",
      "overweight\n"
     ]
    }
   ],
   "source": [
    "BB = float(input('Berat badan: '))\n",
    "print(BB, 'kg')\n",
    "TB = float(input('Tinggi badan: '))\n",
    "if TB >= 100:\n",
    "    TBm = TB/100\n",
    "    print(TBm, 'm')\n",
    "else:\n",
    "    print(TB, 'm')\n",
    "BMI = BB/(TB**2) and BB/(TBm**2)\n",
    "print(BMI)\n",
    "\n",
    "if BMI < 18.5:\n",
    "    print('underweight')\n",
    "elif 18.5 <= BMI <= 24.9:\n",
    "    print('normal')\n",
    "elif 25 <= BMI <= 29.9:\n",
    "    print('overweight')\n",
    "elif 30 <= BMI <= 34.9:\n",
    "    print('Obesity class I')\n",
    "elif 35 <= BMI <= 39.9:\n",
    "    print('obesity class II')\n",
    "elif BMI >= 40:\n",
    "    print('obesity class III')\n"
   ]
  },
  {
   "cell_type": "code",
   "execution_count": null,
   "id": "38893c29",
   "metadata": {},
   "outputs": [],
   "source": []
  },
  {
   "cell_type": "code",
   "execution_count": null,
   "id": "76e8a205",
   "metadata": {},
   "outputs": [],
   "source": []
  }
 ],
 "metadata": {
  "kernelspec": {
   "display_name": "Python 3 (ipykernel)",
   "language": "python",
   "name": "python3"
  },
  "language_info": {
   "codemirror_mode": {
    "name": "ipython",
    "version": 3
   },
   "file_extension": ".py",
   "mimetype": "text/x-python",
   "name": "python",
   "nbconvert_exporter": "python",
   "pygments_lexer": "ipython3",
   "version": "3.11.3"
  }
 },
 "nbformat": 4,
 "nbformat_minor": 5
}
